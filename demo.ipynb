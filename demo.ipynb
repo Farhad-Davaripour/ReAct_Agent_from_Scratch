{
 "cells": [
  {
   "cell_type": "markdown",
   "metadata": {},
   "source": [
    "# Simple ReAct Agentic Workflow from Scratch"
   ]
  },
  {
   "cell_type": "markdown",
   "metadata": {},
   "source": [
    "## Setup"
   ]
  },
  {
   "cell_type": "code",
   "execution_count": 2,
   "metadata": {},
   "outputs": [],
   "source": [
    "import json\n",
    "import re\n",
    "\n",
    "# Load the environment variables\n",
    "from dotenv import load_dotenv\n",
    "_ = load_dotenv()\n",
    "\n",
    "# Import and initialize OpenAI\n",
    "from openai import OpenAI\n",
    "client = OpenAI()"
   ]
  },
  {
   "cell_type": "markdown",
   "metadata": {},
   "source": [
    "## System Prompt"
   ]
  },
  {
   "cell_type": "code",
   "execution_count": 3,
   "metadata": {},
   "outputs": [],
   "source": [
    "system_prompt = \"\"\"\n",
    "You run in a loop of Thought, Action, PAUSE, Observation.\n",
    "At the end of the loop, you output an Answer.\n",
    "Use Thought to describe your thoughts about the question you have been asked.\n",
    "Use Action to run one of the actions available to you - then return PAUSE.\n",
    "Observation will be the result of running those actions.\n",
    "\n",
    "Your available actions are:\n",
    "\n",
    "calculate:\n",
    "e.g. calculate: 4 * 7 / 3\n",
    "Runs a calculation and returns the number - uses Python so be sure to use floating point syntax if necessary\n",
    "\n",
    "retrieve_tasks:\n",
    "e.g. retrieve_tasks\n",
    "Retrieves a list of tasks, including their priority and effort estimates\n",
    "\n",
    "retrieve_resources:\n",
    "e.g. retrieve_resources\n",
    "Retrieves a list of resources, including their available hours and skills\n",
    "\n",
    "allocate_resources:\n",
    "e.g. allocate_resources: [{'resource': 'Alice', 'task': 'Design Database Schema', 'allocated_hours': 20}]\n",
    "Allocates resources to tasks based on the given input\n",
    "\n",
    "estimate_budget:\n",
    "e.g. estimate_budget: 20\n",
    "Estimates the budget based on the number of hours and a predefined hourly rate\n",
    "\n",
    "Always start by retrieving tasks and resources. Then, based on the user's request, perform the necessary actions.\n",
    "Only use estimate_budget if specifically asked for in the question.\n",
    "If the question doesn't ask for a specific action, focus on allocating resources to high-priority tasks.\n",
    "\n",
    "Example session:\n",
    "\n",
    "Question: Allocate resources to high-priority tasks.\n",
    "\n",
    "Thought: I need to allocate resources to high-priority tasks. First, I'll retrieve the tasks and resources.\n",
    "Action: retrieve_tasks\n",
    "PAUSE\n",
    "\n",
    "Observation: Retrieved tasks: [{'task': 'Design Database Schema', 'priority': 'High', 'effort': 20}, {'task': 'Develop API', 'priority': 'Medium', 'effort': 30}, {'task': 'Write Documentation', 'priority': 'Low', 'effort': 15}]\n",
    "\n",
    "Thought: Now I need to retrieve the available resources.\n",
    "Action: retrieve_resources\n",
    "PAUSE\n",
    "\n",
    "Observation: Retrieved resources: [{'resource': 'Alice', 'skill': 'Database Design', 'available_hours': 40}, {'resource': 'Bob', 'skill': 'API Development', 'available_hours': 30}, {'resource': 'Charlie', 'skill': 'Documentation', 'available_hours': 25}]\n",
    "\n",
    "Thought: I've identified the high-priority task as \"Design Database Schema\" with an effort of 20 hours. Alice has the required skill and available hours. I'll allocate her to this task.\n",
    "Action: allocate_resources: [{'resource': 'Alice', 'task': 'Design Database Schema', 'allocated_hours': 20}]\n",
    "PAUSE\n",
    "\n",
    "Observation: Allocation result: [{'resource': 'Alice', 'task': 'Design Database Schema', 'allocated_hours': 20}]\n",
    "\n",
    "Answer: Resources have been allocated to high-priority tasks. Alice has been assigned to the \"Design Database Schema\" task for 20 hours.\n",
    "\n",
    "Note: The system will only provide allocation summaries or budget estimates if specifically requested in the question.\n",
    "\"\"\".strip()"
   ]
  },
  {
   "cell_type": "markdown",
   "metadata": {},
   "source": [
    "## Tools"
   ]
  },
  {
   "cell_type": "code",
   "execution_count": 4,
   "metadata": {},
   "outputs": [],
   "source": [
    "class Agent:\n",
    "    def __init__(self, system=\"\", LLM_type=\"gpt-4o-mini\"):\n",
    "        self.system = system\n",
    "        self.messages = []\n",
    "        self.LLM_type = LLM_type\n",
    "        if self.system:\n",
    "            self.messages.append({\"role\": \"system\", \"content\": system})\n",
    "\n",
    "    def __call__(self, message):\n",
    "        self.messages.append({\"role\": \"user\", \"content\": message})\n",
    "        result = self.execute()\n",
    "        self.messages.append({\"role\": \"assistant\", \"content\": result})\n",
    "        return result, self.messages\n",
    "\n",
    "    def execute(self):\n",
    "        completion = client.chat.completions.create(\n",
    "                        model=self.LLM_type, \n",
    "                        temperature=0,\n",
    "                        messages=self.messages)\n",
    "        return completion.choices[0].message.content"
   ]
  },
  {
   "cell_type": "code",
   "execution_count": 5,
   "metadata": {},
   "outputs": [],
   "source": [
    "def calculate(what):\n",
    "    return eval(what)"
   ]
  },
  {
   "cell_type": "code",
   "execution_count": 6,
   "metadata": {},
   "outputs": [],
   "source": [
    "def retrieve_tasks(unused_input=None):\n",
    "    \"\"\"Simulated external data retrieval\"\"\"\n",
    "    return [\n",
    "        {\"task\": \"Implement Machine Learning Model\", \"priority\": \"High\", \"effort\": 40},\n",
    "        {\"task\": \"Optimize Database Queries\", \"priority\": \"Medium\", \"effort\": 25},\n",
    "        {\"task\": \"Design User Interface\", \"priority\": \"High\", \"effort\": 30},\n",
    "        {\"task\": \"Set Up CI/CD Pipeline\", \"priority\": \"Low\", \"effort\": 20},\n",
    "        {\"task\": \"Perform Security Audit\", \"priority\": \"Medium\", \"effort\": 35}\n",
    "    ]"
   ]
  },
  {
   "cell_type": "code",
   "execution_count": 7,
   "metadata": {},
   "outputs": [],
   "source": [
    "def retrieve_resources(unused_input=None):\n",
    "    \"\"\"Simulated external resource retrieval\"\"\"\n",
    "    return [\n",
    "        {\"resource\": \"Elena\", \"skill\": \"Machine Learning\", \"available_hours\": 45},\n",
    "        {\"resource\": \"Raj\", \"skill\": \"Database Optimization\", \"available_hours\": 30},\n",
    "        {\"resource\": \"Sofia\", \"skill\": \"UI/UX Design\", \"available_hours\": 35},\n",
    "        {\"resource\": \"Liam\", \"skill\": \"DevOps\", \"available_hours\": 25},\n",
    "        {\"resource\": \"Yuki\", \"skill\": \"Cybersecurity\", \"available_hours\": 40}\n",
    "    ]"
   ]
  },
  {
   "cell_type": "code",
   "execution_count": 8,
   "metadata": {},
   "outputs": [],
   "source": [
    "def allocate_resources(allocation_input=None):\n",
    "    \"\"\"Parse the allocation_input and return a list of allocations\n",
    "    For simplicity, let's assume it's already in the correct format\"\"\"\n",
    "    if allocation_input is None:\n",
    "        return \"Error: No allocation input provided. Please provide allocation details.\"\n",
    "    return eval(allocation_input)"
   ]
  },
  {
   "cell_type": "code",
   "execution_count": 9,
   "metadata": {},
   "outputs": [],
   "source": [
    "def estimate_budget(hours, hourly_rate):\n",
    "    \"\"\"Estimate the budget based on the number of hours and hourly rate\"\"\"\n",
    "    return hours * hourly_rate"
   ]
  },
  {
   "cell_type": "code",
   "execution_count": 15,
   "metadata": {},
   "outputs": [],
   "source": [
    "def query(question, max_turns=10, known_actions={} ,LLM_type=\"gpt-4o-mini\"):\n",
    "    action_re = re.compile(r'Action: (\\w+)(?:\\s*:\\s*(.+))?')\n",
    "    i = 0\n",
    "    bot = Agent(system_prompt, LLM_type)\n",
    "    next_prompt = question\n",
    "\n",
    "    while i < max_turns:\n",
    "        i += 1\n",
    "        result, messages = bot(next_prompt)\n",
    "        print(result)\n",
    "        \n",
    "        actions = [\n",
    "            action_re.match(a) \n",
    "            for a in result.split('\\n') \n",
    "            if action_re.match(a)\n",
    "        ]\n",
    "       \n",
    "        if actions:\n",
    "            action, action_input = actions[0].groups()\n",
    "            if action not in known_actions:\n",
    "                raise Exception(\"Unknown action: {}: {}\".format(action, action_input))\n",
    "            print(\" -- running {} {}\".format(action, action_input))\n",
    "            \n",
    "            # Always pass action_input, even if it's None\n",
    "            observation = known_actions[action](action_input)\n",
    "            \n",
    "            print(\"Observation:\", observation)\n",
    "            next_prompt = \"Observation: {}\".format(observation)\n",
    "        else:\n",
    "            break \n",
    "\n",
    "    return messages"
   ]
  },
  {
   "cell_type": "markdown",
   "metadata": {},
   "source": [
    "## Execution"
   ]
  },
  {
   "cell_type": "code",
   "execution_count": 16,
   "metadata": {},
   "outputs": [],
   "source": [
    "model_type = \"gpt-4o\"\n",
    "max_turns = 5"
   ]
  },
  {
   "cell_type": "code",
   "execution_count": 17,
   "metadata": {},
   "outputs": [],
   "source": [
    "known_actions = {\n",
    "    \"calculate\": calculate,\n",
    "    \"retrieve_tasks\": retrieve_tasks,\n",
    "    \"retrieve_resources\": retrieve_resources,\n",
    "    \"allocate_resources\": allocate_resources,\n",
    "    \"estimate_budget\": lambda hours: estimate_budget(int(hours), hourly_rate=50)\n",
    "}"
   ]
  },
  {
   "cell_type": "code",
   "execution_count": 18,
   "metadata": {},
   "outputs": [],
   "source": [
    "question = \"Allocate resources to high-priority tasks, summarize the allocation, and estimate the total budget.\""
   ]
  },
  {
   "cell_type": "code",
   "execution_count": 21,
   "metadata": {},
   "outputs": [
    {
     "name": "stdout",
     "output_type": "stream",
     "text": [
      "Thought: I need to allocate resources to high-priority tasks, summarize the allocation, and estimate the total budget. First, I'll retrieve the tasks and resources.\n",
      "\n",
      "Action: retrieve_tasks\n",
      "PAUSE\n",
      " -- running retrieve_tasks None\n",
      "Observation: [{'task': 'Implement Machine Learning Model', 'priority': 'High', 'effort': 40}, {'task': 'Optimize Database Queries', 'priority': 'Medium', 'effort': 25}, {'task': 'Design User Interface', 'priority': 'High', 'effort': 30}, {'task': 'Set Up CI/CD Pipeline', 'priority': 'Low', 'effort': 20}, {'task': 'Perform Security Audit', 'priority': 'Medium', 'effort': 35}]\n",
      "Thought: Now I need to retrieve the available resources to see who can be allocated to the high-priority tasks.\n",
      "\n",
      "Action: retrieve_resources\n",
      "PAUSE\n",
      " -- running retrieve_resources None\n",
      "Observation: [{'resource': 'Elena', 'skill': 'Machine Learning', 'available_hours': 45}, {'resource': 'Raj', 'skill': 'Database Optimization', 'available_hours': 30}, {'resource': 'Sofia', 'skill': 'UI/UX Design', 'available_hours': 35}, {'resource': 'Liam', 'skill': 'DevOps', 'available_hours': 25}, {'resource': 'Yuki', 'skill': 'Cybersecurity', 'available_hours': 40}]\n",
      "Thought: I've identified the high-priority tasks as \"Implement Machine Learning Model\" with an effort of 40 hours and \"Design User Interface\" with an effort of 30 hours. Elena has the required skill and available hours for the machine learning task, and Sofia has the required skill and available hours for the UI design task. I'll allocate them accordingly.\n",
      "\n",
      "Action: allocate_resources: [{'resource': 'Elena', 'task': 'Implement Machine Learning Model', 'allocated_hours': 40}, {'resource': 'Sofia', 'task': 'Design User Interface', 'allocated_hours': 30}]\n",
      "PAUSE\n",
      " -- running allocate_resources [{'resource': 'Elena', 'task': 'Implement Machine Learning Model', 'allocated_hours': 40}, {'resource': 'Sofia', 'task': 'Design User Interface', 'allocated_hours': 30}]\n",
      "Observation: [{'resource': 'Elena', 'task': 'Implement Machine Learning Model', 'allocated_hours': 40}, {'resource': 'Sofia', 'task': 'Design User Interface', 'allocated_hours': 30}]\n",
      "Thought: The resources have been successfully allocated to the high-priority tasks. Now, I need to estimate the total budget based on the allocated hours. Assuming a predefined hourly rate, I'll proceed with the budget estimation.\n",
      "\n",
      "Action: estimate_budget: 70\n",
      "PAUSE\n",
      " -- running estimate_budget 70\n",
      "Observation: 3500\n",
      "Answer: Resources have been allocated to high-priority tasks as follows:\n",
      "- Elena has been assigned to the \"Implement Machine Learning Model\" task for 40 hours.\n",
      "- Sofia has been assigned to the \"Design User Interface\" task for 30 hours.\n",
      "\n",
      "The total estimated budget for these allocations is $3500.\n",
      "{'role': 'system', 'content': 'You run in a loop of Thought, Action, PAUSE, Observation.\\nAt the end of the loop, you output an Answer.\\nUse Thought to describe your thoughts about the question you have been asked.\\nUse Action to run one of the actions available to you - then return PAUSE.\\nObservation will be the result of running those actions.\\n\\nYour available actions are:\\n\\ncalculate:\\ne.g. calculate: 4 * 7 / 3\\nRuns a calculation and returns the number - uses Python so be sure to use floating point syntax if necessary\\n\\nretrieve_tasks:\\ne.g. retrieve_tasks\\nRetrieves a list of tasks, including their priority and effort estimates\\n\\nretrieve_resources:\\ne.g. retrieve_resources\\nRetrieves a list of resources, including their available hours and skills\\n\\nallocate_resources:\\ne.g. allocate_resources: [{\\'resource\\': \\'Alice\\', \\'task\\': \\'Design Database Schema\\', \\'allocated_hours\\': 20}]\\nAllocates resources to tasks based on the given input\\n\\nestimate_budget:\\ne.g. estimate_budget: 20\\nEstimates the budget based on the number of hours and a predefined hourly rate\\n\\nAlways start by retrieving tasks and resources. Then, based on the user\\'s request, perform the necessary actions.\\nOnly use estimate_budget if specifically asked for in the question.\\nIf the question doesn\\'t ask for a specific action, focus on allocating resources to high-priority tasks.\\n\\nExample session:\\n\\nQuestion: Allocate resources to high-priority tasks.\\n\\nThought: I need to allocate resources to high-priority tasks. First, I\\'ll retrieve the tasks and resources.\\nAction: retrieve_tasks\\nPAUSE\\n\\nObservation: Retrieved tasks: [{\\'task\\': \\'Design Database Schema\\', \\'priority\\': \\'High\\', \\'effort\\': 20}, {\\'task\\': \\'Develop API\\', \\'priority\\': \\'Medium\\', \\'effort\\': 30}, {\\'task\\': \\'Write Documentation\\', \\'priority\\': \\'Low\\', \\'effort\\': 15}]\\n\\nThought: Now I need to retrieve the available resources.\\nAction: retrieve_resources\\nPAUSE\\n\\nObservation: Retrieved resources: [{\\'resource\\': \\'Alice\\', \\'skill\\': \\'Database Design\\', \\'available_hours\\': 40}, {\\'resource\\': \\'Bob\\', \\'skill\\': \\'API Development\\', \\'available_hours\\': 30}, {\\'resource\\': \\'Charlie\\', \\'skill\\': \\'Documentation\\', \\'available_hours\\': 25}]\\n\\nThought: I\\'ve identified the high-priority task as \"Design Database Schema\" with an effort of 20 hours. Alice has the required skill and available hours. I\\'ll allocate her to this task.\\nAction: allocate_resources: [{\\'resource\\': \\'Alice\\', \\'task\\': \\'Design Database Schema\\', \\'allocated_hours\\': 20}]\\nPAUSE\\n\\nObservation: Allocation result: [{\\'resource\\': \\'Alice\\', \\'task\\': \\'Design Database Schema\\', \\'allocated_hours\\': 20}]\\n\\nAnswer: Resources have been allocated to high-priority tasks. Alice has been assigned to the \"Design Database Schema\" task for 20 hours.\\n\\nNote: The system will only provide allocation summaries or budget estimates if specifically requested in the question.'}\n",
      "{'role': 'user', 'content': 'Allocate resources to high-priority tasks, summarize the allocation, and estimate the total budget.'}\n",
      "{'role': 'assistant', 'content': \"Thought: I need to allocate resources to high-priority tasks, summarize the allocation, and estimate the total budget. First, I'll retrieve the tasks and resources.\\n\\nAction: retrieve_tasks\\nPAUSE\"}\n",
      "{'role': 'user', 'content': \"Observation: [{'task': 'Implement Machine Learning Model', 'priority': 'High', 'effort': 40}, {'task': 'Optimize Database Queries', 'priority': 'Medium', 'effort': 25}, {'task': 'Design User Interface', 'priority': 'High', 'effort': 30}, {'task': 'Set Up CI/CD Pipeline', 'priority': 'Low', 'effort': 20}, {'task': 'Perform Security Audit', 'priority': 'Medium', 'effort': 35}]\"}\n",
      "{'role': 'assistant', 'content': 'Thought: Now I need to retrieve the available resources to see who can be allocated to the high-priority tasks.\\n\\nAction: retrieve_resources\\nPAUSE'}\n",
      "{'role': 'user', 'content': \"Observation: [{'resource': 'Elena', 'skill': 'Machine Learning', 'available_hours': 45}, {'resource': 'Raj', 'skill': 'Database Optimization', 'available_hours': 30}, {'resource': 'Sofia', 'skill': 'UI/UX Design', 'available_hours': 35}, {'resource': 'Liam', 'skill': 'DevOps', 'available_hours': 25}, {'resource': 'Yuki', 'skill': 'Cybersecurity', 'available_hours': 40}]\"}\n",
      "{'role': 'assistant', 'content': 'Thought: I\\'ve identified the high-priority tasks as \"Implement Machine Learning Model\" with an effort of 40 hours and \"Design User Interface\" with an effort of 30 hours. Elena has the required skill and available hours for the machine learning task, and Sofia has the required skill and available hours for the UI design task. I\\'ll allocate them accordingly.\\n\\nAction: allocate_resources: [{\\'resource\\': \\'Elena\\', \\'task\\': \\'Implement Machine Learning Model\\', \\'allocated_hours\\': 40}, {\\'resource\\': \\'Sofia\\', \\'task\\': \\'Design User Interface\\', \\'allocated_hours\\': 30}]\\nPAUSE'}\n",
      "{'role': 'user', 'content': \"Observation: [{'resource': 'Elena', 'task': 'Implement Machine Learning Model', 'allocated_hours': 40}, {'resource': 'Sofia', 'task': 'Design User Interface', 'allocated_hours': 30}]\"}\n",
      "{'role': 'assistant', 'content': \"Thought: The resources have been successfully allocated to the high-priority tasks. Now, I need to estimate the total budget based on the allocated hours. Assuming a predefined hourly rate, I'll proceed with the budget estimation.\\n\\nAction: estimate_budget: 70\\nPAUSE\"}\n",
      "{'role': 'user', 'content': 'Observation: 3500'}\n",
      "{'role': 'assistant', 'content': 'Answer: Resources have been allocated to high-priority tasks as follows:\\n- Elena has been assigned to the \"Implement Machine Learning Model\" task for 40 hours.\\n- Sofia has been assigned to the \"Design User Interface\" task for 30 hours.\\n\\nThe total estimated budget for these allocations is $3500.'}\n"
     ]
    }
   ],
   "source": [
    "result = query(question, max_turns, known_actions, model_type)\n",
    "\n",
    "for i, message in enumerate(result):\n",
    "    print(message)"
   ]
  }
 ],
 "metadata": {
  "kernelspec": {
   "display_name": "Python 3",
   "language": "python",
   "name": "python3"
  },
  "language_info": {
   "codemirror_mode": {
    "name": "ipython",
    "version": 3
   },
   "file_extension": ".py",
   "mimetype": "text/x-python",
   "name": "python",
   "nbconvert_exporter": "python",
   "pygments_lexer": "ipython3",
   "version": "3.10.11"
  }
 },
 "nbformat": 4,
 "nbformat_minor": 2
}
