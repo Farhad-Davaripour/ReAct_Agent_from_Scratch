{
 "cells": [
  {
   "cell_type": "markdown",
   "metadata": {},
   "source": [
    "<a href=\"https://colab.research.google.com/github/Farhad-Davaripour/ReAct_Agent_from_Scratch/blob/main/demo.ipynb\" target=\"_parent\">\n",
    "    <img src=\"https://colab.research.google.com/assets/colab-badge.svg\" alt=\"Open in Colab\"/>\n",
    "</a>\n"
   ]
  },
  {
   "cell_type": "markdown",
   "metadata": {},
   "source": [
    "# Simple ReAct Agentic Workflow from Scratch"
   ]
  },
  {
   "cell_type": "markdown",
   "metadata": {},
   "source": [
    "## Setup"
   ]
  },
  {
   "cell_type": "code",
   "execution_count": 13,
   "metadata": {},
   "outputs": [
    {
     "name": "stdout",
     "output_type": "stream",
     "text": [
      "Note: you may need to restart the kernel to use updated packages.\n",
      "Note: you may need to restart the kernel to use updated packages.\n"
     ]
    }
   ],
   "source": [
    "%pip install openai\n",
    "%pip install python-dotenv"
   ]
  },
  {
   "cell_type": "code",
   "execution_count": 14,
   "metadata": {},
   "outputs": [],
   "source": [
    "import os\n",
    "import json\n",
    "import re\n",
    "\n",
    "# Load the environment variables from .env file\n",
    "# from dotenv import load_dotenv\n",
    "# _ = load_dotenv()\n",
    "\n",
    "# Load the environment variables from Google Colab Secrets\n",
    "from google.colab import userdata\n",
    "os.environ[\"OPENAI_API_KEY\"] = userdata.get('OPENAI_API_KEY')"
   ]
  },
  {
   "cell_type": "code",
   "execution_count": 15,
   "metadata": {},
   "outputs": [],
   "source": [
    "# Import and initialize OpenAI\n",
    "from openai import OpenAI\n",
    "client = OpenAI()"
   ]
  },
  {
   "cell_type": "markdown",
   "metadata": {},
   "source": [
    "## System Prompt"
   ]
  },
  {
   "cell_type": "code",
   "execution_count": 16,
   "metadata": {},
   "outputs": [],
   "source": [
    "system_prompt = \"\"\"\n",
    "# Instructions\n",
    "You run in a loop of Thought, Action, PAUSE, Observation.\n",
    "At the end of the loop, you output an Answer.\n",
    "Use Thought to describe your thoughts about the question you have been asked.\n",
    "Use Action to run one of the actions available to you - then return PAUSE.\n",
    "Observation will be the result of running those actions.\n",
    "\n",
    "# Your available tools are:\n",
    "\n",
    "1. retrieve_tasks(priority_level=None):\n",
    "e.g. retrieve_tasks(priority_level=\"High\")\n",
    "Retrieves a list of tasks, including their priority and effort estimates.\n",
    "If a priority level is specified, it returns only the tasks with that priority.\n",
    "\n",
    "2. retrieve_resources:\n",
    "e.g. retrieve_resources\n",
    "Retrieves a list of resources, including their available hours and skills.\n",
    "\n",
    "# Example session:\n",
    "\n",
    "Question: Allocate resources to high-priority tasks.\n",
    "\n",
    "Thought: I need to allocate resources to high-priority tasks. First, I'll retrieve the high-priority tasks.\n",
    "Action: retrieve_tasks(priority_level=\"High\")\n",
    "PAUSE\n",
    "\n",
    "Observation: Retrieved tasks: [{'task': 'Design Database Schema', 'priority': 'High', 'effort': 20}, {'task': 'Develop Machine Learning Model', 'priority': 'High', 'effort': 40}]\n",
    "\n",
    "Thought: Now I need to retrieve the available resources.\n",
    "Action: retrieve_resources\n",
    "PAUSE\n",
    "\n",
    "Observation: Retrieved resources: [{'resource': 'Alice', 'skill': 'Database Design', 'available_hours': 40}, {'resource': 'Bob', 'skill': 'Machine Learning', 'available_hours': 30}, {'resource': 'Charlie', 'skill': 'API Development', 'available_hours': 25}]\n",
    "\n",
    "Thought: I've identified two high-priority tasks: \"Design Database Schema\" and \"Develop Machine Learning Model\". Alice can be assigned to the \"Design Database Schema\" task for 20 hours, and Bob can be assigned to the \"Develop Machine Learning Model\" task for 30 hours.\n",
    "\n",
    "Answer: Resources have been allocated to high-priority tasks. Alice has been assigned to the \"Design Database Schema\" task for 20 hours, and Bob has been assigned to the \"Develop Machine Learning Model\" task for 30 hours.\n",
    "\n",
    "Note: Always finish with an answer.\n",
    "\"\"\".strip()"
   ]
  },
  {
   "cell_type": "markdown",
   "metadata": {},
   "source": [
    "## Tools"
   ]
  },
  {
   "cell_type": "code",
   "execution_count": 17,
   "metadata": {},
   "outputs": [],
   "source": [
    "class Agent:\n",
    "    def __init__(self, system=\"\", LLM_type=\"gpt-4o-mini\"):\n",
    "        self.system = system\n",
    "        self.memory = []\n",
    "        self.LLM_type = LLM_type\n",
    "        if self.system:\n",
    "            self.memory.append({\"role\": \"system\", \"content\": system})\n",
    "\n",
    "    def __call__(self, message):\n",
    "        self.memory.append({\"role\": \"user\", \"content\": message})\n",
    "        result = self.execute()\n",
    "        self.memory.append({\"role\": \"assistant\", \"content\": result})\n",
    "        return result, self.memory\n",
    "\n",
    "    def execute(self):\n",
    "        completion = client.chat.completions.create(\n",
    "                        model=self.LLM_type, \n",
    "                        temperature=0,\n",
    "                        messages=self.memory)\n",
    "        return completion.choices[0].message.content"
   ]
  },
  {
   "cell_type": "code",
   "execution_count": 18,
   "metadata": {},
   "outputs": [],
   "source": [
    "def retrieve_tasks(priority_level=None):\n",
    "    \"\"\"Retrieve tasks filtered by priority level.\"\"\"\n",
    "    \n",
    "    tasks = [\n",
    "        {\"task\": \"Implement Machine Learning Model\", \"priority\": \"High\", \"effort\": 40},\n",
    "        {\"task\": \"Optimize Database Queries\", \"priority\": \"Medium\", \"effort\": 25},\n",
    "        {\"task\": \"Design User Interface\", \"priority\": \"High\", \"effort\": 30},\n",
    "        {\"task\": \"Set Up CI/CD Pipeline\", \"priority\": \"Low\", \"effort\": 20},\n",
    "        {\"task\": \"Perform Security Audit\", \"priority\": \"Medium\", \"effort\": 35}\n",
    "    ]\n",
    "    \n",
    "    if priority_level:\n",
    "        filtered_tasks = [task for task in tasks if task[\"priority\"].lower() == priority_level.lower()]\n",
    "        return filtered_tasks\n",
    "\n",
    "    return tasks"
   ]
  },
  {
   "cell_type": "code",
   "execution_count": 19,
   "metadata": {},
   "outputs": [],
   "source": [
    "def retrieve_resources(unused_input=None):\n",
    "    \"\"\"Simulated external resource retrieval\"\"\"\n",
    "    return [\n",
    "        {\"resource\": \"Elena\", \"skill\": \"Machine Learning\", \"available_hours\": 45},\n",
    "        {\"resource\": \"Raj\", \"skill\": \"Database Optimization\", \"available_hours\": 30},\n",
    "        {\"resource\": \"Sofia\", \"skill\": \"UI/UX Design\", \"available_hours\": 35},\n",
    "        {\"resource\": \"Liam\", \"skill\": \"DevOps\", \"available_hours\": 25},\n",
    "        {\"resource\": \"Yuki\", \"skill\": \"Cybersecurity\", \"available_hours\": 40}\n",
    "    ]"
   ]
  },
  {
   "cell_type": "code",
   "execution_count": 20,
   "metadata": {},
   "outputs": [],
   "source": [
    "action_re = re.compile(r'Action:\\s*(\\w+)(?:\\((.*?)\\))?')\n",
    "\n",
    "def query(question, max_turns=10, known_actions={}, LLM_type=\"gpt-4o\"):\n",
    "    i = 0\n",
    "    bot = Agent(system_prompt, LLM_type)\n",
    "    next_prompt = question\n",
    "\n",
    "    while i < max_turns:\n",
    "        i += 1\n",
    "        thought, memory = bot(next_prompt)\n",
    "        print(thought)\n",
    "        \n",
    "        # Match the action using the updated regex\n",
    "        actions = [\n",
    "            action_re.match(a.strip()) \n",
    "            for a in thought.split('\\n') \n",
    "            if action_re.match(a.strip())\n",
    "        ]\n",
    "       \n",
    "        if actions:\n",
    "            action, action_input = actions[0].groups()\n",
    "            \n",
    "            if action_input:\n",
    "                action_input = action_input.strip(\"'\\\"\")\n",
    "                key_value_match = re.match(r'(\\w+)=(.+)', action_input)\n",
    "                if key_value_match:\n",
    "                    action_input = key_value_match.group(2).strip(\"'\\\"\")\n",
    "            else:\n",
    "                action_input = None\n",
    "\n",
    "            print(f\"\\n -- running {action} with input: {action_input}\")\n",
    "\n",
    "            observation = known_actions[action](action_input)\n",
    "            \n",
    "            print(\"Observation:\", observation)\n",
    "            next_prompt = f\"Observation: {observation}\"\n",
    "        else:\n",
    "            break \n",
    "\n",
    "    return memory, thought"
   ]
  },
  {
   "cell_type": "markdown",
   "metadata": {},
   "source": [
    "## Execution"
   ]
  },
  {
   "cell_type": "code",
   "execution_count": 21,
   "metadata": {},
   "outputs": [],
   "source": [
    "known_actions = {\n",
    "    \"retrieve_tasks\": retrieve_tasks,\n",
    "    \"retrieve_resources\": retrieve_resources,\n",
    "}"
   ]
  },
  {
   "cell_type": "code",
   "execution_count": 22,
   "metadata": {},
   "outputs": [],
   "source": [
    "question = \"Allocate resources to high-priority tasks.\""
   ]
  },
  {
   "cell_type": "code",
   "execution_count": 23,
   "metadata": {},
   "outputs": [],
   "source": [
    "model_type = \"gpt-4o\"\n",
    "max_turns = 5"
   ]
  },
  {
   "cell_type": "code",
   "execution_count": 24,
   "metadata": {},
   "outputs": [
    {
     "name": "stdout",
     "output_type": "stream",
     "text": [
      "Thought: I need to allocate resources to high-priority tasks. First, I'll retrieve the high-priority tasks.\n",
      "\n",
      "Action: retrieve_tasks(priority_level=\"High\")\n",
      "PAUSE\n",
      "\n",
      " -- running retrieve_tasks with input: High\n",
      "Observation: [{'task': 'Implement Machine Learning Model', 'priority': 'High', 'effort': 40}, {'task': 'Design User Interface', 'priority': 'High', 'effort': 30}]\n",
      "Thought: I have identified two high-priority tasks: \"Implement Machine Learning Model\" with an effort of 40 hours and \"Design User Interface\" with an effort of 30 hours. Next, I need to retrieve the available resources to see who can be assigned to these tasks.\n",
      "\n",
      "Action: retrieve_resources\n",
      "PAUSE\n",
      "\n",
      " -- running retrieve_resources with input: None\n",
      "Observation: [{'resource': 'Elena', 'skill': 'Machine Learning', 'available_hours': 45}, {'resource': 'Raj', 'skill': 'Database Optimization', 'available_hours': 30}, {'resource': 'Sofia', 'skill': 'UI/UX Design', 'available_hours': 35}, {'resource': 'Liam', 'skill': 'DevOps', 'available_hours': 25}, {'resource': 'Yuki', 'skill': 'Cybersecurity', 'available_hours': 40}]\n",
      "Thought: I have identified the available resources and their skills. Elena has 45 available hours and skills in Machine Learning, which makes her a good fit for the \"Implement Machine Learning Model\" task. Sofia has 35 available hours and skills in UI/UX Design, making her suitable for the \"Design User Interface\" task.\n",
      "\n",
      "Answer: Resources have been allocated to high-priority tasks. Elena has been assigned to the \"Implement Machine Learning Model\" task for 40 hours, and Sofia has been assigned to the \"Design User Interface\" task for 30 hours.\n"
     ]
    }
   ],
   "source": [
    "memory, final_answer = query(question, max_turns, known_actions, model_type)"
   ]
  },
  {
   "cell_type": "code",
   "execution_count": 25,
   "metadata": {},
   "outputs": [
    {
     "data": {
      "text/plain": [
       "[{'role': 'system',\n",
       "  'content': '# Instructions\\nYou run in a loop of Thought, Action, PAUSE, Observation.\\nAt the end of the loop, you output an Answer.\\nUse Thought to describe your thoughts about the question you have been asked.\\nUse Action to run one of the actions available to you - then return PAUSE.\\nObservation will be the result of running those actions.\\n\\n# Your available tools are:\\n\\n1. retrieve_tasks(priority_level=None):\\ne.g. retrieve_tasks(priority_level=\"High\")\\nRetrieves a list of tasks, including their priority and effort estimates.\\nIf a priority level is specified, it returns only the tasks with that priority.\\n\\n2. retrieve_resources:\\ne.g. retrieve_resources\\nRetrieves a list of resources, including their available hours and skills.\\n\\n# Example session:\\n\\nQuestion: Allocate resources to high-priority tasks.\\n\\nThought: I need to allocate resources to high-priority tasks. First, I\\'ll retrieve the high-priority tasks.\\nAction: retrieve_tasks(priority_level=\"High\")\\nPAUSE\\n\\nObservation: Retrieved tasks: [{\\'task\\': \\'Design Database Schema\\', \\'priority\\': \\'High\\', \\'effort\\': 20}, {\\'task\\': \\'Develop Machine Learning Model\\', \\'priority\\': \\'High\\', \\'effort\\': 40}]\\n\\nThought: Now I need to retrieve the available resources.\\nAction: retrieve_resources\\nPAUSE\\n\\nObservation: Retrieved resources: [{\\'resource\\': \\'Alice\\', \\'skill\\': \\'Database Design\\', \\'available_hours\\': 40}, {\\'resource\\': \\'Bob\\', \\'skill\\': \\'Machine Learning\\', \\'available_hours\\': 30}, {\\'resource\\': \\'Charlie\\', \\'skill\\': \\'API Development\\', \\'available_hours\\': 25}]\\n\\nThought: I\\'ve identified two high-priority tasks: \"Design Database Schema\" and \"Develop Machine Learning Model\". Alice can be assigned to the \"Design Database Schema\" task for 20 hours, and Bob can be assigned to the \"Develop Machine Learning Model\" task for 30 hours.\\n\\nAnswer: Resources have been allocated to high-priority tasks. Alice has been assigned to the \"Design Database Schema\" task for 20 hours, and Bob has been assigned to the \"Develop Machine Learning Model\" task for 30 hours.\\n\\nNote: Always finish with an answer.'},\n",
       " {'role': 'user', 'content': 'Allocate resources to high-priority tasks.'},\n",
       " {'role': 'assistant',\n",
       "  'content': 'Thought: I need to allocate resources to high-priority tasks. First, I\\'ll retrieve the high-priority tasks.\\n\\nAction: retrieve_tasks(priority_level=\"High\")\\nPAUSE'},\n",
       " {'role': 'user',\n",
       "  'content': \"Observation: [{'task': 'Implement Machine Learning Model', 'priority': 'High', 'effort': 40}, {'task': 'Design User Interface', 'priority': 'High', 'effort': 30}]\"},\n",
       " {'role': 'assistant',\n",
       "  'content': 'Thought: I have identified two high-priority tasks: \"Implement Machine Learning Model\" with an effort of 40 hours and \"Design User Interface\" with an effort of 30 hours. Next, I need to retrieve the available resources to see who can be assigned to these tasks.\\n\\nAction: retrieve_resources\\nPAUSE'},\n",
       " {'role': 'user',\n",
       "  'content': \"Observation: [{'resource': 'Elena', 'skill': 'Machine Learning', 'available_hours': 45}, {'resource': 'Raj', 'skill': 'Database Optimization', 'available_hours': 30}, {'resource': 'Sofia', 'skill': 'UI/UX Design', 'available_hours': 35}, {'resource': 'Liam', 'skill': 'DevOps', 'available_hours': 25}, {'resource': 'Yuki', 'skill': 'Cybersecurity', 'available_hours': 40}]\"},\n",
       " {'role': 'assistant',\n",
       "  'content': 'Thought: I have identified the available resources and their skills. Elena has 45 available hours and skills in Machine Learning, which makes her a good fit for the \"Implement Machine Learning Model\" task. Sofia has 35 available hours and skills in UI/UX Design, making her suitable for the \"Design User Interface\" task.\\n\\nAnswer: Resources have been allocated to high-priority tasks. Elena has been assigned to the \"Implement Machine Learning Model\" task for 40 hours, and Sofia has been assigned to the \"Design User Interface\" task for 30 hours.'}]"
      ]
     },
     "execution_count": 25,
     "metadata": {},
     "output_type": "execute_result"
    }
   ],
   "source": [
    "memory"
   ]
  },
  {
   "cell_type": "code",
   "execution_count": 26,
   "metadata": {},
   "outputs": [
    {
     "name": "stdout",
     "output_type": "stream",
     "text": [
      "Thought: I have identified the available resources and their skills. Elena has 45 available hours and skills in Machine Learning, which makes her a good fit for the \"Implement Machine Learning Model\" task. Sofia has 35 available hours and skills in UI/UX Design, making her suitable for the \"Design User Interface\" task.\n",
      "\n",
      "Answer: Resources have been allocated to high-priority tasks. Elena has been assigned to the \"Implement Machine Learning Model\" task for 40 hours, and Sofia has been assigned to the \"Design User Interface\" task for 30 hours.\n"
     ]
    }
   ],
   "source": [
    "print(final_answer)"
   ]
  }
 ],
 "metadata": {
  "kernelspec": {
   "display_name": "Python 3",
   "language": "python",
   "name": "python3"
  },
  "language_info": {
   "codemirror_mode": {
    "name": "ipython",
    "version": 3
   },
   "file_extension": ".py",
   "mimetype": "text/x-python",
   "name": "python",
   "nbconvert_exporter": "python",
   "pygments_lexer": "ipython3",
   "version": "3.10.11"
  }
 },
 "nbformat": 4,
 "nbformat_minor": 2
}
